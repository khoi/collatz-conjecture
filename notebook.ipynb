{
 "cells": [
  {
   "cell_type": "code",
   "execution_count": 1,
   "metadata": {},
   "outputs": [],
   "source": [
    "import numpy as np"
   ]
  },
  {
   "cell_type": "code",
   "execution_count": 6,
   "metadata": {},
   "outputs": [],
   "source": [
    "def calculate_step(n, cache = {}):\n",
    "    assert n >= 1, \"n must be >= 1\"\n",
    "    count = 0\n",
    "    original = n\n",
    "    while n != 1:\n",
    "        if n in cache: # Hit cache\n",
    "            cache[original] = count + cache[n]\n",
    "            return cache[original]\n",
    "        if n % 2 == 0:\n",
    "            n = n // 2\n",
    "            count += 1\n",
    "        else:\n",
    "            n = (3 * n + 1) // 2\n",
    "            count += 2\n",
    "    cache[original] = count\n",
    "    return count"
   ]
  },
  {
   "cell_type": "code",
   "execution_count": 23,
   "metadata": {},
   "outputs": [],
   "source": [
    "N = 1000000\n",
    "cache = {} # memorization FTW"
   ]
  },
  {
   "cell_type": "code",
   "execution_count": 28,
   "metadata": {
    "scrolled": false
   },
   "outputs": [],
   "source": [
    "numbers = np.array([i for i in range(1, N)])\n",
    "steps = np.array([calculate_step(n, cache) for n in numbers])"
   ]
  }
 ],
 "metadata": {
  "kernelspec": {
   "display_name": "Python 3",
   "language": "python",
   "name": "python3"
  },
  "language_info": {
   "codemirror_mode": {
    "name": "ipython",
    "version": 3
   },
   "file_extension": ".py",
   "mimetype": "text/x-python",
   "name": "python",
   "nbconvert_exporter": "python",
   "pygments_lexer": "ipython3",
   "version": "3.7.3"
  }
 },
 "nbformat": 4,
 "nbformat_minor": 2
}
